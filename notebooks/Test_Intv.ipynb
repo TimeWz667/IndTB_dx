{
 "cells": [
  {
   "cell_type": "code",
   "execution_count": 1,
   "id": "80240883-9f50-4ee4-b02d-d89c88abc553",
   "metadata": {
    "tags": []
   },
   "outputs": [],
   "source": [
    "from sim.healthcare import *\n",
    "import numpy as np\n",
    "from sim.inputs import load_inputs\n",
    "import pandas as pd\n"
   ]
  },
  {
   "cell_type": "code",
   "execution_count": 2,
   "id": "586eb35d-2339-4372-a361-3c3b8d356d61",
   "metadata": {
    "tags": []
   },
   "outputs": [],
   "source": [
    "seed = 1167\n",
    "year0 = 2000\n",
    "poc_txi = 0.95\n",
    "\n",
    "ss = {\n",
    "    'Baseline': None,\n",
    "    'TSwab': lambda pp: get_intv_tswab(pp),\n",
    "    'POC': lambda pp: get_intv_poc(pp, target=0.8, p_txi_poc=poc_txi),\n",
    "    'POC_Hi': lambda pp: get_intv_poc(pp, target=0.95, p_txi_poc=None)\n",
    "}"
   ]
  },
  {
   "cell_type": "code",
   "execution_count": 3,
   "id": "b014d485-7583-4217-a78a-942f13e8c02d",
   "metadata": {
    "tags": []
   },
   "outputs": [],
   "source": [
    "inp = load_inputs('pars')"
   ]
  },
  {
   "cell_type": "code",
   "execution_count": 16,
   "id": "5b5cfd3c-304e-4831-be55-5b1d1d683d35",
   "metadata": {
    "tags": []
   },
   "outputs": [],
   "source": [
    "post = pd.read_csv('out/post_dy/Post.csv')\n",
    "post = [dict(row) for i, row in post.iterrows()]\n",
    "pars = inp.Cascade.prepare_pars(post[5], extra_sys=ss)"
   ]
  },
  {
   "cell_type": "code",
   "execution_count": 17,
   "id": "80c07fb5-7c5a-44e2-a1cc-5022ddbadb28",
   "metadata": {
    "tags": []
   },
   "outputs": [
    {
     "data": {
      "text/plain": [
       "array([0.79720353, 0.47452937, 1.17610727])"
      ]
     },
     "execution_count": 17,
     "metadata": {},
     "output_type": "execute_result"
    }
   ],
   "source": [
    "np.array([v.TruePos for v in pars['sys_Baseline']['sys'].seek_care(1, 0).values()]) / p_ent"
   ]
  },
  {
   "cell_type": "code",
   "execution_count": 18,
   "id": "6d8b6e1f-2ed3-4feb-9575-c52a251c39df",
   "metadata": {
    "tags": []
   },
   "outputs": [
    {
     "data": {
      "text/plain": [
       "array([0.79720353, 0.56973625, 0.55987668])"
      ]
     },
     "execution_count": 18,
     "metadata": {},
     "output_type": "execute_result"
    }
   ],
   "source": [
    "pars['p_dx']"
   ]
  },
  {
   "cell_type": "code",
   "execution_count": 19,
   "id": "10644cf0-b0e0-470f-b9fb-1bec1a9794b8",
   "metadata": {
    "tags": []
   },
   "outputs": [
    {
     "data": {
      "text/plain": [
       "(1.0, 0.26878638003, 0.18428642323494532, 0.15511739526232265)"
      ]
     },
     "execution_count": 19,
     "metadata": {},
     "output_type": "execute_result"
    }
   ],
   "source": [
    "p_ent = pars['p_ent']\n",
    "p_itt = pars['p_itt1']\n",
    "p_pdx = pars['p_dx']\n",
    "p_txi = pars['p_txi']\n",
    "\n",
    "p_ent.sum(), (p_ent * p_itt).sum(), (p_ent * p_itt * p_pdx).sum(), (p_ent * p_itt * p_pdx * p_txi).sum()"
   ]
  },
  {
   "cell_type": "code",
   "execution_count": 34,
   "id": "989f6ab7-bcfe-46fa-bf60-78be81e0e77d",
   "metadata": {
    "tags": []
   },
   "outputs": [
    {
     "data": {
      "text/plain": [
       "array([0.38940722, 0.22187427, 0.09269206])"
      ]
     },
     "execution_count": 34,
     "metadata": {},
     "output_type": "execute_result"
    }
   ],
   "source": [
    "pars['p_dx']"
   ]
  },
  {
   "cell_type": "code",
   "execution_count": 39,
   "id": "13160f07-5e9d-4b51-9804-638230777fc4",
   "metadata": {
    "tags": []
   },
   "outputs": [
    {
     "data": {
      "text/plain": [
       "0.60244836"
      ]
     },
     "execution_count": 39,
     "metadata": {},
     "output_type": "execute_result"
    }
   ],
   "source": [
    "pars['sys_Baseline']['sys'].Private.seek_care(1, 0).TruePos"
   ]
  },
  {
   "cell_type": "code",
   "execution_count": 33,
   "id": "0eddeb24-e2e1-400f-8943-85ca540082e1",
   "metadata": {
    "tags": []
   },
   "outputs": [
    {
     "name": "stdout",
     "output_type": "stream",
     "text": [
      "0.17120129479511556\n",
      "0.5121585756045581\n",
      "0.03817644077404797\n",
      "0.08468982663563399\n"
     ]
    }
   ],
   "source": [
    "ent = pars['sys_Baseline']['sys'].Public.Entry\n",
    "for alg, p in zip(pars['sys_Baseline']['sys'].Public.Algorithms, ent):\n",
    "    print(alg.dx(p, 0).TruePos)"
   ]
  },
  {
   "cell_type": "code",
   "execution_count": null,
   "id": "684b22b7-6d58-4c0e-8488-30824c5de24c",
   "metadata": {},
   "outputs": [],
   "source": [
    "for i, pars in tqdm(enumerate(post)):\n",
    "    p = obj.serve(pars)\n",
    "    p = inp.Cas.prepare_pars(p, extra_sys=ss)"
   ]
  },
  {
   "cell_type": "code",
   "execution_count": 10,
   "id": "8ea752c8-3a48-4259-9843-f68d9739d0a1",
   "metadata": {
    "tags": []
   },
   "outputs": [
    {
     "ename": "NameError",
     "evalue": "name 'obj' is not defined",
     "output_type": "error",
     "traceback": [
      "\u001b[0;31m---------------------------------------------------------------------------\u001b[0m",
      "\u001b[0;31mNameError\u001b[0m                                 Traceback (most recent call last)",
      "Cell \u001b[0;32mIn[10], line 2\u001b[0m\n\u001b[1;32m      1\u001b[0m pars \u001b[38;5;241m=\u001b[39m post[\u001b[38;5;241m0\u001b[39m]\n\u001b[0;32m----> 2\u001b[0m p \u001b[38;5;241m=\u001b[39m \u001b[43mobj\u001b[49m\u001b[38;5;241m.\u001b[39mserve(pars)\n\u001b[1;32m      3\u001b[0m p \u001b[38;5;241m=\u001b[39m obj\u001b[38;5;241m.\u001b[39mCas\u001b[38;5;241m.\u001b[39mprepare_pars(p, extra_sys\u001b[38;5;241m=\u001b[39mss)\n",
      "\u001b[0;31mNameError\u001b[0m: name 'obj' is not defined"
     ]
    }
   ],
   "source": [
    "pars = post[0]\n",
    "p = obj.serve(pars)\n",
    "p = obj.Cas.prepare_pars(p, extra_sys=ss)"
   ]
  },
  {
   "cell_type": "code",
   "execution_count": 10,
   "id": "eaed64f6-ad66-4702-b715-ff3b92de23a3",
   "metadata": {
    "tags": []
   },
   "outputs": [],
   "source": [
    "intv = get_intv_poc(p0)"
   ]
  },
  {
   "cell_type": "code",
   "execution_count": 11,
   "id": "d809bf7b-fc95-4626-bf07-5e79cbf86933",
   "metadata": {
    "tags": []
   },
   "outputs": [
    {
     "data": {
      "text/plain": [
       "[0.40988844456, 0.21915707549999996, 0.14476]"
      ]
     },
     "execution_count": 11,
     "metadata": {},
     "output_type": "execute_result"
    }
   ],
   "source": [
    "sys = get_system(p0)\n",
    "test = sys.seek_care(1, 0)\n",
    "[r.TruePos for r in test.values()]"
   ]
  },
  {
   "cell_type": "code",
   "execution_count": 12,
   "id": "758c376b-a077-4b7e-a270-6b38abb3dc8d",
   "metadata": {},
   "outputs": [
    {
     "data": {
      "text/plain": [
       "([0.41226846763200004, 0.21939437849999996, 0.14476], array([0.9, 0.8, 0.8]))"
      ]
     },
     "execution_count": 12,
     "metadata": {},
     "output_type": "execute_result"
    }
   ],
   "source": [
    "intv = get_intv_tswab(p0)\n",
    "test = intv['sys'].seek_care(1, 0)\n",
    "[r.TruePos for r in test.values()], intv['p_txi']"
   ]
  },
  {
   "cell_type": "code",
   "execution_count": 13,
   "id": "2ee3bd86-b8a0-4057-b19b-270a2b09bbec",
   "metadata": {
    "tags": []
   },
   "outputs": [
    {
     "data": {
      "text/plain": [
       "([0.425005224, 0.2709286799999999, 0.14476],\n",
       " array([0.94167386, 0.92595603, 0.8       ]))"
      ]
     },
     "execution_count": 13,
     "metadata": {},
     "output_type": "execute_result"
    }
   ],
   "source": [
    "intv = get_intv_poc(p0, target=0.8, p_txi_poc = 0.95)\n",
    "test = intv['sys'].seek_care(1, 0)\n",
    "[r.TruePos for r in test.values()], intv['p_txi']"
   ]
  },
  {
   "cell_type": "code",
   "execution_count": 14,
   "id": "b4987143-efbd-4eb7-bf00-97c1c7eaf0ca",
   "metadata": {
    "tags": []
   },
   "outputs": [
    {
     "data": {
      "text/plain": [
       "([0.4375557375, 0.2810140574999999, 0.14476], array([0.9, 0.8, 0.8]))"
      ]
     },
     "execution_count": 14,
     "metadata": {},
     "output_type": "execute_result"
    }
   ],
   "source": [
    "intv = get_intv_poc(p0, target=0.95, p_txi_poc = None)\n",
    "test = intv['sys'].seek_care(1, 0)\n",
    "[r.TruePos for r in test.values()], intv['p_txi']"
   ]
  },
  {
   "cell_type": "code",
   "execution_count": null,
   "id": "465175f5-3da5-467a-9e47-5539a982567c",
   "metadata": {},
   "outputs": [],
   "source": []
  }
 ],
 "metadata": {
  "kernelspec": {
   "display_name": "Python 3 (ipykernel)",
   "language": "python",
   "name": "python3"
  },
  "language_info": {
   "codemirror_mode": {
    "name": "ipython",
    "version": 3
   },
   "file_extension": ".py",
   "mimetype": "text/x-python",
   "name": "python",
   "nbconvert_exporter": "python",
   "pygments_lexer": "ipython3",
   "version": "3.10.9"
  }
 },
 "nbformat": 4,
 "nbformat_minor": 5
}
