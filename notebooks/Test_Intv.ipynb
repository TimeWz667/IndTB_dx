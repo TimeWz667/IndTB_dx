{
 "cells": [
  {
   "cell_type": "code",
   "execution_count": 1,
   "id": "80240883-9f50-4ee4-b02d-d89c88abc553",
   "metadata": {
    "tags": []
   },
   "outputs": [],
   "source": [
    "import numpy as np\n",
    "from scipy.interpolate import interp1d"
   ]
  },
  {
   "cell_type": "code",
   "execution_count": 13,
   "id": "8b64d637-f2be-45f6-b841-8136f8717cf6",
   "metadata": {
    "tags": []
   },
   "outputs": [],
   "source": []
  },
  {
   "cell_type": "code",
   "execution_count": 31,
   "id": "54099fb6-db15-450a-a949-0ae5951d95c6",
   "metadata": {
    "tags": []
   },
   "outputs": [],
   "source": [
    "x = np.linspace(2024, 2040, 9)\n",
    "\n",
    "y_pub = [20 / 100, 80 / 100] + [1] * 7\n",
    "y_eng = [10 / 100, 60 / 100] + [1] * 7\n",
    "\n",
    "uptake_pub = interp1d(\n",
    "    x = np.concatenate([[0, 2023], x]),\n",
    "    y = np.concatenate([[0, 0], y_pub]),\n",
    "    fill_value=\"extrapolate\"\n",
    ")\n",
    "\n",
    "uptake_eng = interp1d(\n",
    "    x = np.concatenate([[0, 2023], x]),\n",
    "    y = np.concatenate([[0, 0], y_eng]),\n",
    "    fill_value=\"extrapolate\"\n",
    ")\n",
    "\n"
   ]
  },
  {
   "cell_type": "code",
   "execution_count": 32,
   "id": "0f445c26-2ec7-4e46-aaf7-732b237900e5",
   "metadata": {
    "tags": []
   },
   "outputs": [
    {
     "data": {
      "text/plain": [
       "array([0.        , 0.        , 0.        , 0.        , 0.        ,\n",
       "       0.        , 0.        , 0.        , 0.        , 0.        ,\n",
       "       0.        , 0.        , 0.        , 0.        , 0.        ,\n",
       "       0.        , 0.        , 0.        , 0.        , 0.        ,\n",
       "       0.        , 0.        , 0.        , 0.        , 0.        ,\n",
       "       0.        , 0.        , 0.        , 0.        , 0.        ,\n",
       "       0.        , 0.        , 0.        , 0.        , 0.        ,\n",
       "       0.        , 0.        , 0.        , 0.        , 0.        ,\n",
       "       0.        , 0.        , 0.        , 0.        , 0.        ,\n",
       "       0.        , 0.02323232, 0.07373737, 0.16060606, 0.28686869,\n",
       "       0.41313131, 0.53939394, 0.65252525, 0.75353535, 0.85454545,\n",
       "       0.95555556, 1.        , 1.        , 1.        , 1.        ,\n",
       "       1.        , 1.        , 1.        , 1.        , 1.        ,\n",
       "       1.        , 1.        , 1.        , 1.        , 1.        ,\n",
       "       1.        , 1.        , 1.        , 1.        , 1.        ,\n",
       "       1.        , 1.        , 1.        , 1.        , 1.        ,\n",
       "       1.        , 1.        , 1.        , 1.        , 1.        ,\n",
       "       1.        , 1.        , 1.        , 1.        , 1.        ,\n",
       "       1.        , 1.        , 1.        , 1.        , 1.        ,\n",
       "       1.        , 1.        , 1.        , 1.        , 1.        ])"
      ]
     },
     "execution_count": 32,
     "metadata": {},
     "output_type": "execute_result"
    }
   ],
   "source": [
    "uptake_eng(np.linspace(2000, 2050, 100))"
   ]
  },
  {
   "cell_type": "code",
   "execution_count": null,
   "id": "cb02c54b-3260-4444-82e2-66951311b9df",
   "metadata": {},
   "outputs": [],
   "source": []
  }
 ],
 "metadata": {
  "kernelspec": {
   "display_name": "Python 3 (ipykernel)",
   "language": "python",
   "name": "python3"
  },
  "language_info": {
   "codemirror_mode": {
    "name": "ipython",
    "version": 3
   },
   "file_extension": ".py",
   "mimetype": "text/x-python",
   "name": "python",
   "nbconvert_exporter": "python",
   "pygments_lexer": "ipython3",
   "version": "3.10.9"
  }
 },
 "nbformat": 4,
 "nbformat_minor": 5
}
