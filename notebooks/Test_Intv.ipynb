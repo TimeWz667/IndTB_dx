{
 "cells": [
  {
   "cell_type": "code",
   "execution_count": 1,
   "id": "8b64d637-f2be-45f6-b841-8136f8717cf6",
   "metadata": {
    "tags": []
   },
   "outputs": [],
   "source": [
    "seed = 1167\n",
    "year0 = 2000"
   ]
  },
  {
   "cell_type": "code",
   "execution_count": 2,
   "id": "54099fb6-db15-450a-a949-0ae5951d95c6",
   "metadata": {
    "tags": []
   },
   "outputs": [],
   "source": [
    "from sim.dy.obj import load_obj\n",
    "from sim.dy.intervention import compose_intv\n",
    "import pandas as pd\n",
    "import numpy as np\n",
    "from tqdm import tqdm\n",
    "import json\n",
    "\n",
    "folder = 'out/dyage'\n",
    "\n"
   ]
  },
  {
   "cell_type": "code",
   "execution_count": 3,
   "id": "0f445c26-2ec7-4e46-aaf7-732b237900e5",
   "metadata": {
    "tags": []
   },
   "outputs": [],
   "source": [
    "obj = load_obj(\n",
    "    folder_input='pars',\n",
    "    file_prior='data/prior.txt',\n",
    "    file_targets='data/targets.csv',\n",
    "    year0=year0,\n",
    "    suffix='cas_cdx',\n",
    "    agp=True\n",
    ")\n",
    "\n",
    "with open(f'{folder}/Sim_Baseline.json', 'r') as f:\n",
    "    y0s = json.load(f)"
   ]
  },
  {
   "cell_type": "code",
   "execution_count": 19,
   "id": "cb02c54b-3260-4444-82e2-66951311b9df",
   "metadata": {},
   "outputs": [],
   "source": [
    "state = y0s[2]"
   ]
  },
  {
   "cell_type": "code",
   "execution_count": 20,
   "id": "b56708cb-33ce-4ec1-a2f6-aad02485044d",
   "metadata": {
    "tags": []
   },
   "outputs": [],
   "source": [
    "y0, pars = state['Y0'], state['Pars']\n",
    "y0 = np.array(y0)\n",
    "\n",
    "p = obj.serve(pars)\n",
    "p = obj.Cas.prepare_pars(p)"
   ]
  },
  {
   "cell_type": "code",
   "execution_count": 21,
   "id": "d8a6c239-097e-442a-a894-8ab82fcb33b3",
   "metadata": {
    "tags": []
   },
   "outputs": [],
   "source": [
    "\n",
    "d1 = compose_intv(p, dx='TSwab')\n",
    "d2 = compose_intv(p, dx='POC')\n",
    "d3 =  compose_intv(p, dx='POC_Hi')"
   ]
  },
  {
   "cell_type": "code",
   "execution_count": 22,
   "id": "5cfdb7e4-3357-43e3-8d3a-1ed9f4c74c97",
   "metadata": {
    "tags": []
   },
   "outputs": [
    {
     "data": {
      "text/plain": [
       "0.5204056082005885"
      ]
     },
     "execution_count": 22,
     "metadata": {},
     "output_type": "execute_result"
    }
   ],
   "source": [
    "test = d1.Dx.System.seek_care(1, 0)\n",
    "test['Public'].TruePos"
   ]
  },
  {
   "cell_type": "code",
   "execution_count": 23,
   "id": "cb39f2bd-fca3-4307-b4e2-7f960b602777",
   "metadata": {
    "tags": []
   },
   "outputs": [
    {
     "data": {
      "text/plain": [
       "0.14910908169704173"
      ]
     },
     "execution_count": 23,
     "metadata": {},
     "output_type": "execute_result"
    }
   ],
   "source": [
    "test['Engaged'].TruePos"
   ]
  },
  {
   "cell_type": "code",
   "execution_count": 24,
   "id": "a343fa5a-2295-4c76-9aae-6eaf95321e33",
   "metadata": {
    "tags": []
   },
   "outputs": [
    {
     "data": {
      "text/plain": [
       "0.1853685084660103"
      ]
     },
     "execution_count": 24,
     "metadata": {},
     "output_type": "execute_result"
    }
   ],
   "source": [
    "test['Private'].TruePos"
   ]
  },
  {
   "cell_type": "code",
   "execution_count": 25,
   "id": "c6b783ae-2ae9-4294-a0f2-b62ffef38581",
   "metadata": {
    "tags": []
   },
   "outputs": [
    {
     "data": {
      "text/plain": [
       "0.7997091917593732"
      ]
     },
     "execution_count": 25,
     "metadata": {},
     "output_type": "execute_result"
    }
   ],
   "source": [
    "sys = p['system']\n",
    "test = sys.seek_care(1, 0)\n",
    "p_ent1 = d1.Dx.System.Entry\n",
    "p_dx1 = np.array([r.TruePos for r in test.values()]) / p_ent1\n",
    "(p_ent1 * p_dx1).sum()"
   ]
  },
  {
   "cell_type": "code",
   "execution_count": 26,
   "id": "35383ce6-accc-4580-94de-c96c9b02b455",
   "metadata": {
    "tags": []
   },
   "outputs": [
    {
     "data": {
      "text/plain": [
       "0.8548831983636405"
      ]
     },
     "execution_count": 26,
     "metadata": {},
     "output_type": "execute_result"
    }
   ],
   "source": [
    "test = d1.Dx.Stats\n",
    "p_ent1 = d1.Dx.System.Entry\n",
    "p_dx1 = np.array([r.TruePos for r in test.values()]) / p_ent1\n",
    "(p_ent1 * p_dx1).sum()"
   ]
  },
  {
   "cell_type": "code",
   "execution_count": 27,
   "id": "0b533aed-ff67-423c-8cb5-789300766f72",
   "metadata": {
    "tags": []
   },
   "outputs": [],
   "source": [
    "res = d1.Dx.System.Public.Algorithms[2].dx(1, 0)"
   ]
  },
  {
   "cell_type": "code",
   "execution_count": 28,
   "id": "a7cff000-6048-40f5-a79d-224da834b024",
   "metadata": {
    "tags": []
   },
   "outputs": [
    {
     "data": {
      "text/plain": [
       "Counter({'N_collect_Swab': 1,\n",
       "         'N_test_Xpert': 0.95,\n",
       "         'N_Det_Xpert': 0.79116,\n",
       "         'N_SampleFailed': 0.05,\n",
       "         'N_test_CDx': 0.20884000000000003,\n",
       "         'N_PreDxLTFU': 0.048440000000000004,\n",
       "         'N_Eval_TB_Xpert > CDx': 1,\n",
       "         'N_Eval_NonTB_Xpert > CDx': 0,\n",
       "         'N_Det_TB_Xpert > CDx': 0.7976758079999999,\n",
       "         'N_Det_NonTB_Xpert > CDx': 0.0})"
      ]
     },
     "execution_count": 28,
     "metadata": {},
     "output_type": "execute_result"
    }
   ],
   "source": [
    "res.Counts"
   ]
  },
  {
   "cell_type": "code",
   "execution_count": 29,
   "id": "2e067bdf-e1c8-4b91-a247-527b3a3184c9",
   "metadata": {
    "tags": []
   },
   "outputs": [
    {
     "data": {
      "text/plain": [
       "0.0312"
      ]
     },
     "execution_count": 29,
     "metadata": {},
     "output_type": "execute_result"
    }
   ],
   "source": [
    "d1.Dx.System.Public.Algorithms[2].CDx.Sens"
   ]
  },
  {
   "cell_type": "code",
   "execution_count": 30,
   "id": "7bbca31a-235f-4c59-87b0-391610d8de3f",
   "metadata": {
    "tags": []
   },
   "outputs": [
    {
     "data": {
      "text/plain": [
       "0.0312"
      ]
     },
     "execution_count": 30,
     "metadata": {},
     "output_type": "execute_result"
    }
   ],
   "source": [
    "p['system'].Public.Algorithms[1].CDx.Sens"
   ]
  },
  {
   "cell_type": "code",
   "execution_count": 31,
   "id": "dce22d7a-6295-4540-96dd-eeecbf2dd9ee",
   "metadata": {
    "tags": []
   },
   "outputs": [
    {
     "data": {
      "text/plain": [
       "0.0312"
      ]
     },
     "execution_count": 31,
     "metadata": {},
     "output_type": "execute_result"
    }
   ],
   "source": [
    "p['sens_cdx_bn']"
   ]
  }
 ],
 "metadata": {
  "kernelspec": {
   "display_name": "Python 3 (ipykernel)",
   "language": "python",
   "name": "python3"
  },
  "language_info": {
   "codemirror_mode": {
    "name": "ipython",
    "version": 3
   },
   "file_extension": ".py",
   "mimetype": "text/x-python",
   "name": "python",
   "nbconvert_exporter": "python",
   "pygments_lexer": "ipython3",
   "version": "3.10.9"
  }
 },
 "nbformat": 4,
 "nbformat_minor": 5
}
