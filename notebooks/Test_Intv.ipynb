{
 "cells": [
  {
   "cell_type": "code",
   "execution_count": 8,
   "id": "80240883-9f50-4ee4-b02d-d89c88abc553",
   "metadata": {
    "tags": []
   },
   "outputs": [],
   "source": [
    "from sim.healthcare import *\n",
    "import numpy as np"
   ]
  },
  {
   "cell_type": "code",
   "execution_count": 9,
   "id": "586eb35d-2339-4372-a361-3c3b8d356d61",
   "metadata": {
    "tags": []
   },
   "outputs": [],
   "source": [
    "p0 = {\n",
    "    'sens_ssm': 0.64,\n",
    "    'spec_ssm': 0.98,\n",
    "    'sens_xpert': 0.85,\n",
    "    'sens_xpert_ss-': 0.64,\n",
    "    'spec_xpert': 0.98,\n",
    "    'p_ava_xpert_pub': 0.2,\n",
    "    'p_ava_ssm_pub': 0.8,\n",
    "    'p_ava_xpert_eng': 0.03,\n",
    "    'p_loss_sputum': 0.15,\n",
    "    'p_loss_swab': 0.05,\n",
    "    'sens_cdx': 0.7,\n",
    "    'spec_cdx': 0.95,\n",
    "    'p_csi_pub': 0.483,\n",
    "    'p_csi_ppm': 0.6,\n",
    "    'dur_pri': 0.7,\n",
    "    'dur_pub': 0.5,\n",
    "    'p_txi_pub': 0.9,\n",
    "    'p_txi_eng': 0.8,\n",
    "    'p_txi_pri': 0.8,\n",
    "    'p_refer_i2u': 0.3,\n",
    "}"
   ]
  },
  {
   "cell_type": "code",
   "execution_count": 10,
   "id": "eaed64f6-ad66-4702-b715-ff3b92de23a3",
   "metadata": {
    "tags": []
   },
   "outputs": [],
   "source": [
    "intv = get_intv_poc(p0)"
   ]
  },
  {
   "cell_type": "code",
   "execution_count": 11,
   "id": "d809bf7b-fc95-4626-bf07-5e79cbf86933",
   "metadata": {
    "tags": []
   },
   "outputs": [
    {
     "data": {
      "text/plain": [
       "[0.40988844456, 0.21915707549999996, 0.14476]"
      ]
     },
     "execution_count": 11,
     "metadata": {},
     "output_type": "execute_result"
    }
   ],
   "source": [
    "sys = get_system(p0)\n",
    "test = sys.seek_care(1, 0)\n",
    "[r.TruePos for r in test.values()]"
   ]
  },
  {
   "cell_type": "code",
   "execution_count": 12,
   "id": "758c376b-a077-4b7e-a270-6b38abb3dc8d",
   "metadata": {},
   "outputs": [
    {
     "data": {
      "text/plain": [
       "([0.41226846763200004, 0.21939437849999996, 0.14476], array([0.9, 0.8, 0.8]))"
      ]
     },
     "execution_count": 12,
     "metadata": {},
     "output_type": "execute_result"
    }
   ],
   "source": [
    "intv = get_intv_tswab(p0)\n",
    "test = intv['sys'].seek_care(1, 0)\n",
    "[r.TruePos for r in test.values()], intv['p_txi']"
   ]
  },
  {
   "cell_type": "code",
   "execution_count": 13,
   "id": "2ee3bd86-b8a0-4057-b19b-270a2b09bbec",
   "metadata": {
    "tags": []
   },
   "outputs": [
    {
     "data": {
      "text/plain": [
       "([0.425005224, 0.2709286799999999, 0.14476],\n",
       " array([0.94167386, 0.92595603, 0.8       ]))"
      ]
     },
     "execution_count": 13,
     "metadata": {},
     "output_type": "execute_result"
    }
   ],
   "source": [
    "intv = get_intv_poc(p0, target=0.8, p_txi_poc = 0.95)\n",
    "test = intv['sys'].seek_care(1, 0)\n",
    "[r.TruePos for r in test.values()], intv['p_txi']"
   ]
  },
  {
   "cell_type": "code",
   "execution_count": 14,
   "id": "b4987143-efbd-4eb7-bf00-97c1c7eaf0ca",
   "metadata": {
    "tags": []
   },
   "outputs": [
    {
     "data": {
      "text/plain": [
       "([0.4375557375, 0.2810140574999999, 0.14476], array([0.9, 0.8, 0.8]))"
      ]
     },
     "execution_count": 14,
     "metadata": {},
     "output_type": "execute_result"
    }
   ],
   "source": [
    "intv = get_intv_poc(p0, target=0.95, p_txi_poc = None)\n",
    "test = intv['sys'].seek_care(1, 0)\n",
    "[r.TruePos for r in test.values()], intv['p_txi']"
   ]
  },
  {
   "cell_type": "code",
   "execution_count": null,
   "id": "465175f5-3da5-467a-9e47-5539a982567c",
   "metadata": {},
   "outputs": [],
   "source": []
  }
 ],
 "metadata": {
  "kernelspec": {
   "display_name": "Python 3 (ipykernel)",
   "language": "python",
   "name": "python3"
  },
  "language_info": {
   "codemirror_mode": {
    "name": "ipython",
    "version": 3
   },
   "file_extension": ".py",
   "mimetype": "text/x-python",
   "name": "python",
   "nbconvert_exporter": "python",
   "pygments_lexer": "ipython3",
   "version": "3.10.9"
  }
 },
 "nbformat": 4,
 "nbformat_minor": 5
}
