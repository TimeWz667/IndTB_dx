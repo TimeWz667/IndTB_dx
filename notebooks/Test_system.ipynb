{
 "cells": [
  {
   "cell_type": "code",
   "execution_count": 6,
   "id": "f8d060b2-f0e2-427e-99ec-9af6b6883410",
   "metadata": {
    "tags": []
   },
   "outputs": [],
   "source": [
    "import json"
   ]
  },
  {
   "cell_type": "code",
   "execution_count": 7,
   "id": "f93180c9-5b96-4c46-84db-35bffc473fb0",
   "metadata": {
    "tags": []
   },
   "outputs": [],
   "source": [
    "with open('data/dx.json') as f:\n",
    "    pars_dx = json.load(f)\n",
    "    \n",
    "with open('data/itr.json') as f:\n",
    "    dat_itr = json.load(f)    \n"
   ]
  },
  {
   "cell_type": "code",
   "execution_count": 8,
   "id": "3d8a40f6-ed3b-4dc7-a066-af9281f1cc57",
   "metadata": {
    "tags": []
   },
   "outputs": [
    {
     "data": {
      "text/plain": [
       "{'Presumptive': {'SSM': 13914911, 'CBNAAT': 1370649, 'Truenat': 2749903},\n",
       " 'Notification': {'Sector_Public': 1688427,\n",
       "  'Sector_Private': 733694,\n",
       "  'Type_New': 2131704,\n",
       "  'Type_Treated': 226960,\n",
       "  'Type_PMDT': 63457,\n",
       "  'Test_SSM': 513050,\n",
       "  'Test_Xpert': 548981,\n",
       "  'Test_CXR': 835930,\n",
       "  'Test_Other': 1037210},\n",
       " 'Test_Truenat': {'Tested': 3483130,\n",
       "  'Detected': 529196,\n",
       "  'TestRif': 490267,\n",
       "  'DetectedRif': 21659,\n",
       "  'Tested_Private': 215594,\n",
       "  'Detected_Private': 53067,\n",
       "  'DetectedRif_Private': 3735},\n",
       " 'Test_CBNAAT': {'Tested': 2365739,\n",
       "  'Detected': 525088,\n",
       "  'DetectedRif': 42026,\n",
       "  'Tested_Private': 262160,\n",
       "  'Detected_Private': 68556,\n",
       "  'DetectedRif_Private': 6531},\n",
       " 'Test_LPA': {'Tested': 309719, 'DetectedRif': 27180},\n",
       " 'Year': 2022,\n",
       " 'Location': 'India'}"
      ]
     },
     "execution_count": 8,
     "metadata": {},
     "output_type": "execute_result"
    }
   ],
   "source": [
    "dat_itr"
   ]
  },
  {
   "cell_type": "code",
   "execution_count": 9,
   "id": "54cf536b-33a4-452c-8e27-3b9540c5ae0c",
   "metadata": {
    "tags": []
   },
   "outputs": [
    {
     "data": {
      "text/plain": [
       "{'sens_ssm': 0.64,\n",
       " 'spec_ssm': 0.98,\n",
       " 'sens_xpert': 0.85,\n",
       " 'sens_xpert_ss-': 0.64,\n",
       " 'spec_xpert': 0.98,\n",
       " 'p_ava_xpert_pub': 0.2,\n",
       " 'p_ava_ssm_pub': 0.8,\n",
       " 'p_ava_xpert_eng': 0.3,\n",
       " 'p_loss_sputum': 0.15,\n",
       " 'p_loss_swab': 0.02,\n",
       " 'sens_cdx': 0.7,\n",
       " 'spec_cdx': 0.95,\n",
       " 'p_csi_pub': 0.483,\n",
       " 'p_csi_ppm': 0.6,\n",
       " 'dur_pri': 0.7,\n",
       " 'dur_pub': 0.5,\n",
       " 'p_txi_pub': 0.9,\n",
       " 'p_txi_eng': 0.8,\n",
       " 'p_txi_pri': 0.8,\n",
       " 'p_refer_i2u': 0.3}"
      ]
     },
     "execution_count": 9,
     "metadata": {},
     "output_type": "execute_result"
    }
   ],
   "source": [
    "pars_dx"
   ]
  },
  {
   "cell_type": "code",
   "execution_count": 11,
   "id": "edc2fcbd-3d71-48a6-81f7-e91dd4c626b8",
   "metadata": {
    "tags": []
   },
   "outputs": [],
   "source": [
    "def find_p(sens, spec, n, x):\n",
    "    p = x / n - (1 - spec)\n",
    "    p /= (sens - (1 - spec))\n",
    "    return p"
   ]
  },
  {
   "cell_type": "code",
   "execution_count": 12,
   "id": "3ab39e65-67b9-49d3-ab6c-af42d1e57f73",
   "metadata": {
    "tags": []
   },
   "outputs": [
    {
     "data": {
      "text/plain": [
       "0.027210515627861805"
      ]
     },
     "execution_count": 12,
     "metadata": {},
     "output_type": "execute_result"
    }
   ],
   "source": [
    "p_tb = find_p(pars_dx['sens_ssm'], pars_dx['spec_ssm'], dat_itr['Presumptive']['SSM'], dat_itr['Notification']['Test_SSM'])\n",
    "p_tb"
   ]
  },
  {
   "cell_type": "code",
   "execution_count": 13,
   "id": "7a9a5e7a-3aad-4bf4-85e6-5dd8a9e944f5",
   "metadata": {
    "tags": []
   },
   "outputs": [
    {
     "data": {
      "text/plain": [
       "0.13642164494652922"
      ]
     },
     "execution_count": 13,
     "metadata": {},
     "output_type": "execute_result"
    }
   ],
   "source": [
    "sens_xpert, spec_xpert = pars_dx['sens_xpert'], pars_dx['spec_xpert']\n",
    "\n",
    "n_xpert = dat_itr['Presumptive']['CBNAAT'] + dat_itr['Presumptive']['Truenat']\n",
    "x_xpert = n_xpert * p_tb\n",
    "x_xpert_sn = dat_itr['Notification']['Test_Xpert'] - x_xpert\n",
    "\n",
    "sens2, spec2 = 0.85, 0.98\n",
    "find_p(sens2, spec2, n2, x2)"
   ]
  },
  {
   "cell_type": "code",
   "execution_count": 7,
   "id": "19efd450-e9c7-4aa9-80de-0d8ed9fa1566",
   "metadata": {
    "tags": []
   },
   "outputs": [
    {
     "data": {
      "text/plain": [
       "0.13642164494652922"
      ]
     },
     "execution_count": 7,
     "metadata": {},
     "output_type": "execute_result"
    }
   ],
   "source": [
    "find_p(0.85, 0.98, 1370649 + 2749903, 548981)"
   ]
  },
  {
   "cell_type": "code",
   "execution_count": 8,
   "id": "793fa902-b23b-4021-9c9e-d75a5ddeee71",
   "metadata": {
    "tags": []
   },
   "outputs": [
    {
     "data": {
      "text/plain": [
       "(0.036870519689274336, 0.13322996530561926)"
      ]
     },
     "execution_count": 8,
     "metadata": {},
     "output_type": "execute_result"
    }
   ],
   "source": [
    "513050 / 13914911, 548981 / (1370649 + 2749903)"
   ]
  },
  {
   "cell_type": "code",
   "execution_count": 11,
   "id": "a3bea52f-f9e3-4b3a-9c5c-06799f5f1282",
   "metadata": {
    "tags": []
   },
   "outputs": [],
   "source": [
    "tp1, fp1 = 13914911 * p1 * 0.64, 13914911 * (1 - p1) * 0.02\n",
    "\n"
   ]
  },
  {
   "cell_type": "code",
   "execution_count": 19,
   "id": "568686f2-390b-4383-a63e-b057c473b615",
   "metadata": {
    "tags": []
   },
   "outputs": [
    {
     "data": {
      "text/plain": [
       "0.9743861828847827"
      ]
     },
     "execution_count": 19,
     "metadata": {},
     "output_type": "execute_result"
    }
   ],
   "source": [
    "tp1 * sens2 / (tp1 * sens2 + fp1 * (1 - spec2))"
   ]
  },
  {
   "cell_type": "code",
   "execution_count": 40,
   "id": "2a25ded5-20d5-4cb9-aaa8-c33eb9cbd356",
   "metadata": {
    "tags": []
   },
   "outputs": [
    {
     "data": {
      "text/plain": [
       "(548790.2970002838, 548981, 0.9996526236796608, 3245801.75)"
      ]
     },
     "execution_count": 40,
     "metadata": {},
     "output_type": "execute_result"
    }
   ],
   "source": [
    "sens2, spec2 = 0.95, 0.98\n",
    "\n",
    "p1 = find_p(0.64, 0.98, 13914911, 513050)\n",
    "tp1, fp1 = 13914911 * p1 * 0.64, 13914911 * (1 - p1) * 0.02\n",
    "\n",
    "k = 1.705\n",
    "n3 = n2 - (tp1 + fp1) * k\n",
    "\n",
    "tp22, fp22 = (n3 * p1 + tp1 * k) * sens2, (n3 * (1 - p1) + fp1 * k) * (1 - spec2)\n",
    "x22 = tp22 + fp22\n",
    "x22, x2, x22 / x2, n3"
   ]
  }
 ],
 "metadata": {
  "kernelspec": {
   "display_name": "Python 3 (ipykernel)",
   "language": "python",
   "name": "python3"
  },
  "language_info": {
   "codemirror_mode": {
    "name": "ipython",
    "version": 3
   },
   "file_extension": ".py",
   "mimetype": "text/x-python",
   "name": "python",
   "nbconvert_exporter": "python",
   "pygments_lexer": "ipython3",
   "version": "3.10.9"
  }
 },
 "nbformat": 4,
 "nbformat_minor": 5
}
