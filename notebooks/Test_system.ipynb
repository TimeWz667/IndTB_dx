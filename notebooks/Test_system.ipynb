{
 "cells": [
  {
   "cell_type": "code",
   "execution_count": 1,
   "id": "edc2fcbd-3d71-48a6-81f7-e91dd4c626b8",
   "metadata": {
    "tags": []
   },
   "outputs": [],
   "source": [
    "def find_p(sens, spec, n, x):\n",
    "    p = x / n - (1 - spec)\n",
    "    p /= (sens - (1 - spec))\n",
    "    return p"
   ]
  },
  {
   "cell_type": "code",
   "execution_count": 9,
   "id": "3ab39e65-67b9-49d3-ab6c-af42d1e57f73",
   "metadata": {
    "tags": []
   },
   "outputs": [
    {
     "data": {
      "text/plain": [
       "0.027210515627861805"
      ]
     },
     "execution_count": 9,
     "metadata": {},
     "output_type": "execute_result"
    }
   ],
   "source": [
    "p1 = find_p(0.64, 0.98, 13914911, 513050)\n",
    "p1"
   ]
  },
  {
   "cell_type": "code",
   "execution_count": 13,
   "id": "7a9a5e7a-3aad-4bf4-85e6-5dd8a9e944f5",
   "metadata": {
    "tags": []
   },
   "outputs": [
    {
     "data": {
      "text/plain": [
       "0.13642164494652922"
      ]
     },
     "execution_count": 13,
     "metadata": {},
     "output_type": "execute_result"
    }
   ],
   "source": [
    "n2 = 1370649 + 2749903\n",
    "x2 = 548981\n",
    "\n",
    "sens2, spec2 = 0.85, 0.98\n",
    "find_p(sens2, spec2, n2, x2)"
   ]
  },
  {
   "cell_type": "code",
   "execution_count": 7,
   "id": "19efd450-e9c7-4aa9-80de-0d8ed9fa1566",
   "metadata": {
    "tags": []
   },
   "outputs": [
    {
     "data": {
      "text/plain": [
       "0.13642164494652922"
      ]
     },
     "execution_count": 7,
     "metadata": {},
     "output_type": "execute_result"
    }
   ],
   "source": [
    "find_p(0.85, 0.98, 1370649 + 2749903, 548981)"
   ]
  },
  {
   "cell_type": "code",
   "execution_count": 8,
   "id": "793fa902-b23b-4021-9c9e-d75a5ddeee71",
   "metadata": {
    "tags": []
   },
   "outputs": [
    {
     "data": {
      "text/plain": [
       "(0.036870519689274336, 0.13322996530561926)"
      ]
     },
     "execution_count": 8,
     "metadata": {},
     "output_type": "execute_result"
    }
   ],
   "source": [
    "513050 / 13914911, 548981 / (1370649 + 2749903)"
   ]
  },
  {
   "cell_type": "code",
   "execution_count": 11,
   "id": "a3bea52f-f9e3-4b3a-9c5c-06799f5f1282",
   "metadata": {
    "tags": []
   },
   "outputs": [],
   "source": [
    "tp1, fp1 = 13914911 * p1 * 0.64, 13914911 * (1 - p1) * 0.02\n",
    "\n"
   ]
  },
  {
   "cell_type": "code",
   "execution_count": 19,
   "id": "568686f2-390b-4383-a63e-b057c473b615",
   "metadata": {
    "tags": []
   },
   "outputs": [
    {
     "data": {
      "text/plain": [
       "0.9743861828847827"
      ]
     },
     "execution_count": 19,
     "metadata": {},
     "output_type": "execute_result"
    }
   ],
   "source": [
    "tp1 * sens2 / (tp1 * sens2 + fp1 * (1 - spec2))"
   ]
  },
  {
   "cell_type": "code",
   "execution_count": 40,
   "id": "2a25ded5-20d5-4cb9-aaa8-c33eb9cbd356",
   "metadata": {
    "tags": []
   },
   "outputs": [
    {
     "data": {
      "text/plain": [
       "(548790.2970002838, 548981, 0.9996526236796608, 3245801.75)"
      ]
     },
     "execution_count": 40,
     "metadata": {},
     "output_type": "execute_result"
    }
   ],
   "source": [
    "sens2, spec2 = 0.95, 0.98\n",
    "\n",
    "p1 = find_p(0.64, 0.98, 13914911, 513050)\n",
    "tp1, fp1 = 13914911 * p1 * 0.64, 13914911 * (1 - p1) * 0.02\n",
    "\n",
    "k = 1.705\n",
    "n3 = n2 - (tp1 + fp1) * k\n",
    "\n",
    "tp22, fp22 = (n3 * p1 + tp1 * k) * sens2, (n3 * (1 - p1) + fp1 * k) * (1 - spec2)\n",
    "x22 = tp22 + fp22\n",
    "x22, x2, x22 / x2, n3"
   ]
  }
 ],
 "metadata": {
  "kernelspec": {
   "display_name": "Python 3 (ipykernel)",
   "language": "python",
   "name": "python3"
  },
  "language_info": {
   "codemirror_mode": {
    "name": "ipython",
    "version": 3
   },
   "file_extension": ".py",
   "mimetype": "text/x-python",
   "name": "python",
   "nbconvert_exporter": "python",
   "pygments_lexer": "ipython3",
   "version": "3.10.9"
  }
 },
 "nbformat": 4,
 "nbformat_minor": 5
}
