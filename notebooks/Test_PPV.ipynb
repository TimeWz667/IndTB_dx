{
 "cells": [
  {
   "cell_type": "code",
   "execution_count": 1,
   "id": "cbd33089-3a49-41ac-accc-4970b9eb3b17",
   "metadata": {
    "tags": []
   },
   "outputs": [],
   "source": [
    "from scipy.integrate import solve_ivp\n",
    "import numpy as np\n",
    "import pandas as pd\n",
    "from scipy.optimize import minimize_scalar"
   ]
  },
  {
   "cell_type": "code",
   "execution_count": 2,
   "id": "09b0644b-a740-4e30-8540-97e799d33762",
   "metadata": {
    "tags": []
   },
   "outputs": [],
   "source": [
    "def fn(t, y, pars):\n",
    "    un, tf, tt = y\n",
    "    ga, risk, ppv = pars['ga'], pars['risk'], pars['ppv']\n",
    "    r = ga * risk / (1 - risk) / ppv\n",
    "    \n",
    "    return np.array([\n",
    "    - r * un                                   + ga * (tf + tt),\n",
    "      r * (1 - ppv) *  un       - r * ppv * tf - ga * tf,\n",
    "      r *       ppv * (un + tf)                - ga * tt\n",
    "    ])"
   ]
  },
  {
   "cell_type": "code",
   "execution_count": 3,
   "id": "ce53dfaf-da0e-487f-906b-b9546bfd1ee2",
   "metadata": {
    "tags": []
   },
   "outputs": [],
   "source": [
    "ppv = 0.6\n",
    "\n",
    "def target(x, ppv):\n",
    "    p = {\n",
    "        'ga': 0.02,\n",
    "        'risk': x,\n",
    "        'ppv': ppv\n",
    "    }\n",
    "\n",
    "    sol = solve_ivp(fn, [0, 1000], [1, 0, 0], args = (p, ))\n",
    "\n",
    "    y1 = sol.y[:, -1]\n",
    "    pi = y1[-1] / y1[1:].sum()\n",
    "\n",
    "    return (pi / ppv - 1.8) ** 2\n",
    "\n",
    "def sim(x, ppv):\n",
    "    p = {\n",
    "        'ga': 0.02,\n",
    "        'risk': x,\n",
    "        'ppv': ppv\n",
    "    }\n",
    "\n",
    "    sol = solve_ivp(fn, [0, 1000], [1, 0, 0], args = (p, ))\n",
    "\n",
    "    y1 = sol.y[:, -1]\n",
    "    p['pi'] = y1[-1] / y1[1:].sum()\n",
    "\n",
    "    return p"
   ]
  },
  {
   "cell_type": "code",
   "execution_count": 4,
   "id": "3875f733-29dc-4d9e-97ec-ef1fec116fd7",
   "metadata": {
    "tags": []
   },
   "outputs": [
    {
     "data": {
      "text/plain": [
       "{'ga': 0.02, 'risk': 0.1999602846488997, 'ppv': 0.2, 'pi': 0.3599998307372604}"
      ]
     },
     "execution_count": 4,
     "metadata": {},
     "output_type": "execute_result"
    }
   ],
   "source": [
    "ppv = 0.2\n",
    "\n",
    "opt = minimize_scalar(target, bounds = [0.01, 0.99], args = (ppv, ))\n",
    "\n",
    "sim(opt.x, ppv)"
   ]
  },
  {
   "cell_type": "code",
   "execution_count": 5,
   "id": "17a196f6-3d1c-490e-9a6c-9e508a086874",
   "metadata": {
    "tags": []
   },
   "outputs": [],
   "source": [
    "ms = list()\n",
    "for ppv in np.linspace(0.01, 0.55, 100):\n",
    "    opt = minimize_scalar(target, bounds = [0.01, 0.99], args = (ppv, ))\n",
    "    ms.append(sim(opt.x, ppv))\n",
    "\n",
    "ms = pd.DataFrame(ms)"
   ]
  },
  {
   "cell_type": "code",
   "execution_count": 7,
   "id": "8684e7dd-8e85-47ab-8f9e-6945f01f7747",
   "metadata": {
    "tags": []
   },
   "outputs": [],
   "source": [
    "ms.to_csv('out/sim_ppv_treated.csv')"
   ]
  },
  {
   "cell_type": "code",
   "execution_count": null,
   "id": "e099612e-c76f-48de-8a0d-51ebd8346fb3",
   "metadata": {},
   "outputs": [],
   "source": []
  }
 ],
 "metadata": {
  "kernelspec": {
   "display_name": "Python 3 (ipykernel)",
   "language": "python",
   "name": "python3"
  },
  "language_info": {
   "codemirror_mode": {
    "name": "ipython",
    "version": 3
   },
   "file_extension": ".py",
   "mimetype": "text/x-python",
   "name": "python",
   "nbconvert_exporter": "python",
   "pygments_lexer": "ipython3",
   "version": "3.10.9"
  }
 },
 "nbformat": 4,
 "nbformat_minor": 5
}
