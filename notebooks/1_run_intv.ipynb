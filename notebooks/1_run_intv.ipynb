{
 "cells": [
  {
   "cell_type": "code",
   "execution_count": 1,
   "id": "ff713df1-ce45-492f-b836-118d1bc8753a",
   "metadata": {
    "tags": []
   },
   "outputs": [],
   "source": [
    "from sim.ebm.dy import ModelBaseline\n",
    "from sim.ebm.intv import Intervention\n",
    "from sim.fn import load_model_baseline\n",
    "from sim.inputs import load_inputs\n",
    "import pandas as pd\n",
    "import numpy as np\n",
    "import matplotlib.pylab as plt\n",
    "from tqdm.notebook import tqdm\n",
    "import os"
   ]
  },
  {
   "cell_type": "code",
   "execution_count": 2,
   "id": "7561c47c-3d9c-421f-9020-5a0161b92da7",
   "metadata": {
    "tags": []
   },
   "outputs": [],
   "source": [
    "coverage = 0.2\n",
    "\n",
    "intv1 = Intervention.parse_obj({\n",
    "    'MassACF': {\n",
    "        'Coverage': coverage,\n",
    "        'Sens_L': 0,\n",
    "        'Spec': 1\n",
    "    }\n",
    "})\n",
    "\n",
    "intv2 = Intervention.parse_obj({\n",
    "    'MassACF': {\n",
    "        'Coverage': coverage,\n",
    "    }\n",
    "})\n",
    "\n",
    "intvs = [\n",
    "    (None, 'Baseline'),\n",
    "    (intv1, 'Without_LTBI'),\n",
    "    (intv2, 'With_LTBI')\n",
    "]"
   ]
  },
  {
   "cell_type": "code",
   "execution_count": 3,
   "id": "00cf86e3-3bc1-4fdc-bcc8-49fc67095e0a",
   "metadata": {
    "tags": []
   },
   "outputs": [],
   "source": [
    "model = load_model_baseline('data')\n",
    "\n",
    "post = pd.read_csv('pars/baseline/Post.csv').iloc[:, 1:]\n",
    "post = [dict(row) for _, row in post.iterrows()]\n",
    "post = [model.Inputs.Cascade.prepare_pars(p) for p in post]"
   ]
  },
  {
   "cell_type": "code",
   "execution_count": 4,
   "id": "780e0ec9-c1c3-48d6-8756-1529141a336b",
   "metadata": {
    "tags": []
   },
   "outputs": [
    {
     "data": {
      "application/vnd.jupyter.widget-view+json": {
       "model_id": "e7fb3bce4caa485dbc3a42bb9587fa13",
       "version_major": 2,
       "version_minor": 0
      },
      "text/plain": [
       "  0%|          | 0/300 [00:00<?, ?it/s]"
      ]
     },
     "metadata": {},
     "output_type": "display_data"
    }
   ],
   "source": [
    "mss_pre = list()\n",
    "mss_intv = list()\n",
    "\n",
    "for i, p in enumerate(tqdm(post)):\n",
    "    ys, ms, _ = model.simulate_to_fit(p, np.linspace(2016, 2022, 7))\n",
    "    mss_pre.append(ms)\n",
    "    y0 = ys.sol(2022)\n",
    "\n",
    "    for intv, lab in intvs:\n",
    "        _, ms_intv, _ = model.simulate_onward(y0, p, intv)\n",
    "        mss_intv.append(ms_intv.assign(Scenario=lab, Key=i))\n",
    "\n",
    "mss_pre = pd.concat(mss_pre)\n",
    "mss_intv = pd.concat(mss_intv)"
   ]
  },
  {
   "cell_type": "code",
   "execution_count": 5,
   "id": "d94048d1-be55-4f1d-9899-937e834a2902",
   "metadata": {
    "tags": []
   },
   "outputs": [],
   "source": [
    "os.makedirs('out/intv', exist_ok=True)\n",
    "\n",
    "mss_pre.to_csv('out/intv/mss_pre.csv')\n",
    "mss_intv.to_csv('out/intv/mss_intv.csv')"
   ]
  }
 ],
 "metadata": {
  "kernelspec": {
   "display_name": "Python 3 (ipykernel)",
   "language": "python",
   "name": "python3"
  },
  "language_info": {
   "codemirror_mode": {
    "name": "ipython",
    "version": 3
   },
   "file_extension": ".py",
   "mimetype": "text/x-python",
   "name": "python",
   "nbconvert_exporter": "python",
   "pygments_lexer": "ipython3",
   "version": "3.10.9"
  }
 },
 "nbformat": 4,
 "nbformat_minor": 5
}
