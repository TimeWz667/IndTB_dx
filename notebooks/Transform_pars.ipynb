{
 "cells": [
  {
   "cell_type": "code",
   "execution_count": 10,
   "id": "d056dfd2-b4c2-4b80-bcdc-0d2bcd2fe8fc",
   "metadata": {
    "tags": []
   },
   "outputs": [],
   "source": [
    "import pickle as pkl\n",
    "import json\n",
    "import numpy as np"
   ]
  },
  {
   "cell_type": "code",
   "execution_count": 2,
   "id": "d9d5f10e-d4c9-4cf1-8b8f-d424469885f9",
   "metadata": {
    "tags": []
   },
   "outputs": [],
   "source": [
    "with open('pars/ind_who_70to35.pkl', 'rb') as f:\n",
    "    pars_demo = pkl.load(f)"
   ]
  },
  {
   "cell_type": "code",
   "execution_count": 14,
   "id": "dcc9922a-1488-42f2-8356-3f990e2c7d8b",
   "metadata": {
    "tags": []
   },
   "outputs": [],
   "source": [
    "reformed = dict()\n",
    "\n",
    "for k, v in pars_demo.items():\n",
    "    reformed[k] = v.tolist() if isinstance(v, np.ndarray) else v"
   ]
  },
  {
   "cell_type": "code",
   "execution_count": 15,
   "id": "49786696-a671-4653-86ac-7129bb839680",
   "metadata": {
    "tags": []
   },
   "outputs": [],
   "source": [
    "with open('pars/ind_who_70to35.json', 'w') as f:\n",
    "    json.dump(reformed, f)"
   ]
  }
 ],
 "metadata": {
  "kernelspec": {
   "display_name": "Python 3 (ipykernel)",
   "language": "python",
   "name": "python3"
  },
  "language_info": {
   "codemirror_mode": {
    "name": "ipython",
    "version": 3
   },
   "file_extension": ".py",
   "mimetype": "text/x-python",
   "name": "python",
   "nbconvert_exporter": "python",
   "pygments_lexer": "ipython3",
   "version": "3.10.9"
  }
 },
 "nbformat": 4,
 "nbformat_minor": 5
}
