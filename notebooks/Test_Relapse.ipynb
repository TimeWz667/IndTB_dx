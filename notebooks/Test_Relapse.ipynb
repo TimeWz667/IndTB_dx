{
 "cells": [
  {
   "cell_type": "code",
   "execution_count": 1,
   "id": "b5d2630b-649c-43cd-942b-d674d52e1991",
   "metadata": {
    "tags": []
   },
   "outputs": [],
   "source": [
    "import numpy as np\n",
    "from sim.ebm.intervention import compose_intv\n",
    "from sim.ebm.obj import load_obj_age\n",
    "import pandas as pd\n",
    "from tqdm import tqdm\n",
    "import json\n",
    "\n",
    "folder = 'out/post_dyage'\n",
    "\n",
    "obj = load_obj_age(\n",
    "    folder_input=f'pars',\n",
    "    file_prior='data/prior.txt',\n",
    "    file_targets='data/targets.csv',\n",
    "    year0=2000\n",
    ")"
   ]
  },
  {
   "cell_type": "code",
   "execution_count": 11,
   "id": "fe32d317-e5be-4c5e-91f1-f3b733f2625a",
   "metadata": {
    "tags": []
   },
   "outputs": [],
   "source": [
    "post = pd.read_csv('out/post_dyage/Post.csv')\n",
    "post = [dict(row) for i, row in post.iterrows()]\n",
    "\n",
    "mss = list()\n",
    "\n",
    "\n",
    "pars = post[0]\n",
    "p = obj.serve(pars)\n",
    "p = obj.Cas.prepare_pars(p)\n"
   ]
  },
  {
   "cell_type": "code",
   "execution_count": 16,
   "id": "ed8ae843-b055-4185-b7b3-59909d8bd3b0",
   "metadata": {
    "tags": []
   },
   "outputs": [],
   "source": [
    "incs = list()\n",
    "\n",
    "for pars in post[:10]:\n",
    "    p = obj.serve(pars)\n",
    "    p = obj.Cas.prepare_pars(p)\n",
    "    _, ms, _ = obj.Model.simulate_to_fit(p, np.linspace(2022, 2023, 2))\n",
    "    incs.append(ms.IncR.iloc[0])\n",
    "    \n",
    "incs = np.array(incs)"
   ]
  },
  {
   "cell_type": "code",
   "execution_count": 81,
   "id": "b69098aa-53dc-48ce-965a-1ccb3e442014",
   "metadata": {
    "tags": []
   },
   "outputs": [],
   "source": [
    "def mod(p, ks, obj):\n",
    "    k_beta, k_rel = ks\n",
    "    \n",
    "    p = dict(p)\n",
    "    p['beta'] = k_beta * p['beta']\n",
    "    p['r_relapse_te'] = k_rel * p['r_relapse_te']\n",
    "    \n",
    "    p = obj.serve(p)\n",
    "    p = obj.Cas.prepare_pars(p)\n",
    "    \n",
    "    _, ms, _ = obj.Model.simulate_to_fit(p, np.linspace(2022, 2023, 2))\n",
    "    m = ms.iloc[0, :]\n",
    "    \n",
    "    r_rel_te = p['r_relapse_te']\n",
    "    rr_rel_pub = p['rr_relapse_pub'] / (0.3 + 0.7 * p['rr_relapse_pub'])\n",
    "    rr_rel_pri = 1 / (0.3 + 0.7 * p['rr_relapse_pub'])\n",
    "    r_rel_teu, r_rel_tei = r_rel_te * rr_rel_pub, r_rel_te * rr_rel_pri\n",
    "    \n",
    "    return {\n",
    "        'IncR': m.IncR,\n",
    "        'PrTreated': m.IncTreatedR / m.IncR,\n",
    "        'PrPubTrated': m.IncTreatedPubR / m.IncR,\n",
    "        'PrRelPub': 1 - np.exp(- r_rel_teu),\n",
    "        'PrRelPri': 1 - np.exp(- r_rel_tei)\n",
    "    }"
   ]
  },
  {
   "cell_type": "code",
   "execution_count": 82,
   "id": "d5f0290f-2b9f-4509-b878-d19be3a614da",
   "metadata": {
    "tags": []
   },
   "outputs": [],
   "source": [
    "def mod2(p, ks, obj):\n",
    "    k_beta, k_rel = ks\n",
    "    \n",
    "    p = dict(p)\n",
    "    p['beta'] = k_beta * p['beta']\n",
    "    p['r_relapse_te'] = k_rel * p['r_relapse_te']\n",
    "    p['rr_relapse_pub'] = 1\n",
    "    \n",
    "    p = obj.serve(p)\n",
    "    p = obj.Cas.prepare_pars(p)\n",
    "    \n",
    "    _, ms, _ = obj.Model.simulate_to_fit(p, np.linspace(2022, 2023, 2))\n",
    "    m = ms.iloc[0, :]\n",
    "    \n",
    "    r_rel_te = p['r_relapse_te']\n",
    "    rr_rel_pub = p['rr_relapse_pub'] / (0.3 + 0.7 * p['rr_relapse_pub'])\n",
    "    rr_rel_pri = 1 / (0.3 + 0.7 * p['rr_relapse_pub'])\n",
    "    r_rel_teu, r_rel_tei = r_rel_te * rr_rel_pub, r_rel_te * rr_rel_pri\n",
    "    \n",
    "    return {\n",
    "        'IncR': m.IncR,\n",
    "        'PrTreated': m.IncTreatedR / m.IncR,\n",
    "        'PrPubTrated': m.IncTreatedPubR / m.IncR,\n",
    "        'PrRelPub': 1 - np.exp(- r_rel_teu),\n",
    "        'PrRelPri': 1 - np.exp(- r_rel_tei)\n",
    "    }"
   ]
  },
  {
   "cell_type": "code",
   "execution_count": 95,
   "id": "e0e14970-f254-49e1-bbbe-1dafde2b184d",
   "metadata": {
    "tags": []
   },
   "outputs": [
    {
     "data": {
      "text/plain": [
       "IncR           0.002047\n",
       "PrTreated      0.087212\n",
       "PrPubTrated    0.071329\n",
       "PrRelPub       0.091657\n",
       "PrRelPri       0.034209\n",
       "dtype: float64"
      ]
     },
     "execution_count": 95,
     "metadata": {},
     "output_type": "execute_result"
    }
   ],
   "source": [
    "incs0 = list()\n",
    "\n",
    "for pars in post[:10]:\n",
    "    incs0.append(mod(pars, [1, 1], obj))\n",
    "    \n",
    "incs0 = pd.DataFrame(incs0)\n",
    "incs0.mean()"
   ]
  },
  {
   "cell_type": "markdown",
   "id": "3f81285e-be83-417c-b368-a2df071e40ed",
   "metadata": {},
   "source": [
    "- In Prev: 18%\n",
    "- Pub in Prev: 14%"
   ]
  },
  {
   "cell_type": "code",
   "execution_count": 90,
   "id": "df9b1a27-aba5-4d46-9e4d-d920e9f8f12a",
   "metadata": {
    "tags": []
   },
   "outputs": [
    {
     "data": {
      "text/plain": [
       "IncR           0.002090\n",
       "PrTreated      0.192883\n",
       "PrPubTrated    0.154651\n",
       "PrRelPub       0.264801\n",
       "PrRelPri       0.105345\n",
       "dtype: float64"
      ]
     },
     "execution_count": 90,
     "metadata": {},
     "output_type": "execute_result"
    }
   ],
   "source": [
    "incs1 = list()\n",
    "\n",
    "for pars in post[:10]:\n",
    "    incs1.append(mod(pars, [0.85, 3.2], obj))\n",
    "    \n",
    "incs1 = pd.DataFrame(incs1)\n",
    "incs1.mean()"
   ]
  },
  {
   "cell_type": "markdown",
   "id": "43e00f04-e4b7-410f-9de2-de2e122a201d",
   "metadata": {},
   "source": [
    "- Pub in Prev: 14%"
   ]
  },
  {
   "cell_type": "code",
   "execution_count": 98,
   "id": "806ad855-c702-40b3-8097-6088d2c774f0",
   "metadata": {
    "tags": []
   },
   "outputs": [
    {
     "data": {
      "text/plain": [
       "IncR           0.002090\n",
       "PrTreated      0.241393\n",
       "PrPubTrated    0.159696\n",
       "PrRelPub       0.289692\n",
       "PrRelPri       0.289692\n",
       "dtype: float64"
      ]
     },
     "execution_count": 98,
     "metadata": {},
     "output_type": "execute_result"
    }
   ],
   "source": [
    "incs2 = list()\n",
    "\n",
    "for pars in post[:10]:\n",
    "    incs2.append(mod2(pars, [0.77, 4.4], obj))\n",
    "    \n",
    "incs2 = pd.DataFrame(incs2)\n",
    "incs2.mean()"
   ]
  },
  {
   "cell_type": "markdown",
   "id": "348fc38c-801e-4397-a25d-96f2b53135fc",
   "metadata": {},
   "source": [
    "- PreTreated in CNR: 10%"
   ]
  },
  {
   "cell_type": "code",
   "execution_count": 103,
   "id": "134b070e-7228-44f2-9499-3c0d7b3df4d1",
   "metadata": {
    "tags": []
   },
   "outputs": [
    {
     "data": {
      "text/plain": [
       "IncR           0.001952\n",
       "PrTreated      0.106125\n",
       "PrPubTrated    0.069663\n",
       "PrRelPub       0.089069\n",
       "PrRelPri       0.089069\n",
       "dtype: float64"
      ]
     },
     "execution_count": 103,
     "metadata": {},
     "output_type": "execute_result"
    }
   ],
   "source": [
    "incs3 = list()\n",
    "\n",
    "for pars in post[:10]:\n",
    "    incs3.append(mod2(pars, [0.97, 1.2], obj))\n",
    "    \n",
    "incs3 = pd.DataFrame(incs3)\n",
    "incs3.mean()"
   ]
  }
 ],
 "metadata": {
  "kernelspec": {
   "display_name": "Python 3 (ipykernel)",
   "language": "python",
   "name": "python3"
  },
  "language_info": {
   "codemirror_mode": {
    "name": "ipython",
    "version": 3
   },
   "file_extension": ".py",
   "mimetype": "text/x-python",
   "name": "python",
   "nbconvert_exporter": "python",
   "pygments_lexer": "ipython3",
   "version": "3.10.9"
  }
 },
 "nbformat": 4,
 "nbformat_minor": 5
}
