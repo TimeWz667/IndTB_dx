{
 "cells": [
  {
   "cell_type": "code",
   "execution_count": 1,
   "id": "ff713df1-ce45-492f-b836-118d1bc8753a",
   "metadata": {
    "tags": []
   },
   "outputs": [],
   "source": [
    "from sim.ebm.dy import ModelBaseline\n",
    "from sim.fn import load_model_baseline\n",
    "from sim.inputs import load_inputs\n",
    "import pandas as pd\n",
    "import numpy as np\n",
    "import matplotlib.pylab as plt\n",
    "from tqdm.notebook import tqdm\n",
    "import os"
   ]
  },
  {
   "cell_type": "code",
   "execution_count": 2,
   "id": "00cf86e3-3bc1-4fdc-bcc8-49fc67095e0a",
   "metadata": {
    "tags": []
   },
   "outputs": [],
   "source": [
    "model = load_model_baseline('data')\n",
    "\n",
    "post = pd.read_csv('pars/baseline/Post.csv').iloc[:, 1:]\n",
    "post = [dict(row) for _, row in post.iterrows()]\n",
    "post = [model.Inputs.Cascade.prepare_pars(p) for p in post]"
   ]
  },
  {
   "cell_type": "code",
   "execution_count": 3,
   "id": "2147580b-6f01-4aba-a6da-e0a4015b47f8",
   "metadata": {
    "tags": []
   },
   "outputs": [
    {
     "data": {
      "text/plain": [
       "dict_keys(['p_txi', 'p_dx', 'p_dx0', 'p_dx1', 'p_ent', 'r_onset', 'r_csi', 'r_recsi', 'mu_a', 'mu_s', 'mu_c', 'tx_alo', 'tx_dur', 'r_txs', 'r_txd', 'r_txl', 'ppv', 'inc', 'prev_ut', 'prev_asc', 'r_die_sym', 'rr_die_asym', 'beta', 'rr_inf_asym', 'rr_sus_slat', 'p_primary', 'r_clear', 'r_sc', 'r_react', 'irr_10', 'irr_20', 'irr_30', 'drt_trans', 'p_txi_pri', 'drt_act', 'rt_cs', 'rr_inf_cs', 'r_lat', 'r_relapse', 'r_relapse_td', 'r_relapse_tc', 't0_decline', 'p_txi_pub', 'p_txi_eng', 'p_dx_pub', 'p_ent_pub', 'r_die_asym', 'r_act'])"
      ]
     },
     "execution_count": 3,
     "metadata": {},
     "output_type": "execute_result"
    }
   ],
   "source": [
    "post[0].keys()"
   ]
  },
  {
   "cell_type": "code",
   "execution_count": 4,
   "id": "780e0ec9-c1c3-48d6-8756-1529141a336b",
   "metadata": {
    "tags": []
   },
   "outputs": [
    {
     "data": {
      "application/vnd.jupyter.widget-view+json": {
       "model_id": "6caed87e28124709803042d805b30823",
       "version_major": 2,
       "version_minor": 0
      },
      "text/plain": [
       "  0%|          | 0/300 [00:00<?, ?it/s]"
      ]
     },
     "metadata": {},
     "output_type": "display_data"
    }
   ],
   "source": [
    "mss = list()\n",
    "\n",
    "for i, p in enumerate(tqdm(post)):\n",
    "    ys, ms, _ = model.simulate_to_fit(p, np.linspace(2016, 2022, 7))\n",
    "\n",
    "    y0 = ys.sol(2022)\n",
    "\n",
    "    _, ms_intv, _ = model.simulate_onward(y0, p)\n",
    "    mss.append(ms_intv.assign(Scenario='Baseline', Key=i))\n",
    "    pi = dict(p)\n",
    "    pi['beta'] = 0\n",
    "    _, ms_intv, _ = model.simulate_onward(y0, pi)\n",
    "    mss.append(ms_intv.assign(Scenario='NoBeta', Key=i))\n",
    "    pi = dict(p)\n",
    "    pi['r_react'] = 0\n",
    "    pi['r_relapse'] = pi['r_relapse_td'] = pi['r_relapse_tc'] = 0 \n",
    "    _, ms_intv, _ = model.simulate_onward(y0, pi)\n",
    "    mss.append(ms_intv.assign(Scenario='NoAct', Key=i))\n",
    "\n",
    "mss = pd.concat(mss)"
   ]
  },
  {
   "cell_type": "code",
   "execution_count": 5,
   "id": "d94048d1-be55-4f1d-9899-937e834a2902",
   "metadata": {
    "tags": []
   },
   "outputs": [],
   "source": [
    "os.makedirs('out/paf', exist_ok=True)\n",
    "\n",
    "mss.to_csv('out/paf/mss.csv')"
   ]
  }
 ],
 "metadata": {
  "kernelspec": {
   "display_name": "Python 3 (ipykernel)",
   "language": "python",
   "name": "python3"
  },
  "language_info": {
   "codemirror_mode": {
    "name": "ipython",
    "version": 3
   },
   "file_extension": ".py",
   "mimetype": "text/x-python",
   "name": "python",
   "nbconvert_exporter": "python",
   "pygments_lexer": "ipython3",
   "version": "3.10.9"
  }
 },
 "nbformat": 4,
 "nbformat_minor": 5
}
