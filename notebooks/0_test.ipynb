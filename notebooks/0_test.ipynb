{
 "cells": [
  {
   "cell_type": "code",
   "execution_count": 36,
   "id": "21669695-a173-4250-bdc6-5eaa82e64f05",
   "metadata": {
    "tags": []
   },
   "outputs": [],
   "source": [
    "import json\n",
    "import pickle as pkl\n",
    "from sim.healthcare import *\n",
    "import numpy as np\n",
    "import numpy.random as rd"
   ]
  },
  {
   "cell_type": "code",
   "execution_count": 6,
   "id": "0ddf8858-7912-4795-87be-88ad3df820eb",
   "metadata": {
    "tags": []
   },
   "outputs": [],
   "source": [
    "pars_dx = json.load(open('pars/pars_cdx.json', 'r'))\n",
    "pars_tx = json.load(open('pars/pars_tx.json', 'r'))\n",
    "prev = pars_tx['prev']\n",
    "pars_tx = pars_tx['pars']"
   ]
  },
  {
   "cell_type": "code",
   "execution_count": 10,
   "id": "2bbced06-6b68-4e39-abf2-817b0d44d19b",
   "metadata": {
    "tags": []
   },
   "outputs": [
    {
     "data": {
      "text/plain": [
       "(2000, 4000)"
      ]
     },
     "execution_count": 10,
     "metadata": {},
     "output_type": "execute_result"
    }
   ],
   "source": [
    "len(pars_tx), len(pars_dx)"
   ]
  },
  {
   "cell_type": "code",
   "execution_count": 37,
   "id": "c5c8860a-2d42-44f5-a994-356d79fbb68e",
   "metadata": {
    "tags": []
   },
   "outputs": [
    {
     "data": {
      "text/plain": [
       "{'PrevUt': 0.0020096,\n",
       " 'PrevAsym': 0.0012318,\n",
       " 'PrevSym': 0.00042218,\n",
       " 'PrevExCS': 0.00035562,\n",
       " 'TBLikeUt': 0.04285987,\n",
       " 'PrCSIPub': 0.48281849}"
      ]
     },
     "execution_count": 37,
     "metadata": {},
     "output_type": "execute_result"
    }
   ],
   "source": [
    "prev"
   ]
  },
  {
   "cell_type": "code",
   "execution_count": 11,
   "id": "82919631-de25-4236-a7bf-b4c5b10f182c",
   "metadata": {
    "tags": []
   },
   "outputs": [
    {
     "data": {
      "text/plain": [
       "{'ppm': 0.54819008,\n",
       " 'ppv_pri': 0.70076372,\n",
       " 'txi_pub': 0.00091004,\n",
       " 'txi_eng': 0.00030101,\n",
       " 'dur_pri': 0.91158053,\n",
       " 'p_pri_on_pub': 0.28116338,\n",
       " 'txi_pri': 0.00024809,\n",
       " 'ppv_eng': 0.70076372,\n",
       " 'tx_pri': 0.0006628,\n",
       " 'drug_time': 0.0006042,\n",
       " 'p_pub': 0.62368179,\n",
       " 'p_under': 0.1700243,\n",
       " 'tp_pri_drug': 642411.96131784,\n",
       " 'tp_pri_drug_time': 585610.23387954,\n",
       " 'tp_pri_txi': 759469.778308,\n",
       " 'lp__': -548.84132338,\n",
       " 'ppv_pub': 0.75}"
      ]
     },
     "execution_count": 11,
     "metadata": {},
     "output_type": "execute_result"
    }
   ],
   "source": [
    "pars_tx[0]"
   ]
  },
  {
   "cell_type": "code",
   "execution_count": 64,
   "id": "9aa309a9-135a-4b86-ad0d-d9ae9f973741",
   "metadata": {
    "tags": []
   },
   "outputs": [
    {
     "data": {
      "text/plain": [
       "{'sens_s': 0.6313,\n",
       " 'sens_x': 0.8367,\n",
       " 'sens_x_sn': 0.6355,\n",
       " 'spec_s': 0.9772,\n",
       " 'spec_x': 0.9719,\n",
       " 'spec_x_sn': 0.9743,\n",
       " 'sens_cdx': 0.7821,\n",
       " 'spec_cdx': 0.9643,\n",
       " 'sens_cdx_bn': 0.7821,\n",
       " 'spec_cdx_bn': 0.9643,\n",
       " 'p_scanty': 0.1695,\n",
       " 'dur_pub': 0.5,\n",
       " 'dur_pri': 0.91158053,\n",
       " 'p_pri_on_pub': 0.28116338,\n",
       " 'system': <sim.healthcare.system.System at 0x7f6569a34250>,\n",
       " 'p_dx': array([0.93591796, 0.79992145, 0.7821    ]),\n",
       " 'p_txi': array([0.95, 0.85, 0.85]),\n",
       " 'p_ent': array([0.55644093, 0.24067886, 0.20288021]),\n",
       " 'p_itt': 0.4668958704869209,\n",
       " 'txi': 0.00145914}"
      ]
     },
     "execution_count": 64,
     "metadata": {},
     "output_type": "execute_result"
    }
   ],
   "source": [
    "particle = dict()\n",
    "\n",
    "particle.update({k: v for k, v in p_dx.items() if k.startswith('sens_') or k.startswith('spec_')})\n",
    "particle['p_scanty'] = p_dx['p_scanty']\n",
    "particle['dur_pub'] = 0.5\n",
    "particle['dur_pri'] = p_tx['dur_pri']\n",
    "particle['p_pri_on_pub'] = p_tx['p_pri_on_pub']\n",
    "particle['system'] = sys = get_system(pars_dx[0], pars_tx[0])\n",
    "\n",
    "particle['p_dx'] = np.array([sys.Public.seek_care(1, 0).TruePos, sys.Engaged.seek_care(1, 0).TruePos, sys.Private.seek_care(1, 0).TruePos])\n",
    "particle['p_txi'] = np.array([0.95, 0.85, 0.85])\n",
    "particle['p_ent'] = sys.Entry\n",
    "particle['p_itt'] = 1 / (2.7 * particle['p_dx'] * particle['p_txi'] * particle['p_ent']).sum()\n",
    "particle['txi'] = np.array([p_tx['txi_pub'], p_tx['txi_eng'], p_tx['txi_pri']]).sum()\n",
    "\n",
    "particle"
   ]
  },
  {
   "cell_type": "code",
   "execution_count": 73,
   "id": "d280a938-b0fd-4d38-ad23-c92d5f127e66",
   "metadata": {
    "tags": []
   },
   "outputs": [
    {
     "data": {
      "text/plain": [
       "b'\\x80\\x04\\x95\\xbe\\x05\\x00\\x00\\x00\\x00\\x00\\x00}\\x94(\\x8c\\x06sens_s\\x94G?\\xe43\\x9c\\x0e\\xbe\\xdf\\xa4\\x8c\\x06sens_x\\x94G?\\xea\\xc6?\\x14\\x12\\x05\\xbc\\x8c\\tsens_x_sn\\x94G?\\xe4V\\x04\\x18\\x93t\\xbc\\x8c\\x06spec_s\\x94G?\\xefE8\\xef4\\xd6\\xa1\\x8c\\x06spec_x\\x94G?\\xef\\x19\\xce\\x07_o\\xd2\\x8c\\tspec_x_sn\\x94G?\\xef-w1\\x8f\\xc5\\x05\\x8c\\x08sens_cdx\\x94G?\\xe9\\x06\\xf6\\x94Fs\\x82\\x8c\\x08spec_cdx\\x94G?\\xee\\xdb\\x8b\\xacq\\x0c\\xb3\\x8c\\x0bsens_cdx_bn\\x94G?\\xe9\\x06\\xf6\\x94Fs\\x82\\x8c\\x0bspec_cdx_bn\\x94G?\\xee\\xdb\\x8b\\xacq\\x0c\\xb3\\x8c\\x08p_scanty\\x94G?\\xc5\\xb2-\\x0eV\\x04\\x19\\x8c\\x07dur_pub\\x94G?\\xe0\\x00\\x00\\x00\\x00\\x00\\x00\\x8c\\x07dur_pri\\x94G?\\xed+\\xaa\\xee\\x80\\xa6\\xaf\\x8c\\x0cp_pri_on_pub\\x94G?\\xd1\\xfe\\x94\\xb0{\\xb3U\\x8c\\x06system\\x94\\x8c\\x15sim.healthcare.system\\x94\\x8c\\x06System\\x94\\x93\\x94)\\x81\\x94}\\x94(\\x8c\\x05Entry\\x94\\x8c\\x15numpy.core.multiarray\\x94\\x8c\\x0c_reconstruct\\x94\\x93\\x94\\x8c\\x05numpy\\x94\\x8c\\x07ndarray\\x94\\x93\\x94K\\x00\\x85\\x94C\\x01b\\x94\\x87\\x94R\\x94(K\\x01K\\x03\\x85\\x94h\\x19\\x8c\\x05dtype\\x94\\x93\\x94\\x8c\\x02f8\\x94\\x89\\x88\\x87\\x94R\\x94(K\\x03\\x8c\\x01<\\x94NNNJ\\xff\\xff\\xff\\xffJ\\xff\\xff\\xff\\xffK\\x00t\\x94b\\x89C\\x18\\xb1\\x08~6]\\xce\\xe1?\\xfc\"\\xd7\\x96\\x90\\xce\\xce??\\xba0\\x8f\\xfa\\xf7\\xc9?\\x94t\\x94b\\x8c\\x06Public\\x94h\\x10\\x8c\\x06Sector\\x94\\x93\\x94)\\x81\\x94}\\x94(h\\x15h\\x18h\\x1bK\\x00\\x85\\x94h\\x1d\\x87\\x94R\\x94(K\\x01K\\x03\\x85\\x94h%\\x89C\\x18\\x86\\x94<*@,\\xe9?%\\xde\\xf8\\xe2\\xa4\\x93\\xa7?`vO\\x1e\\x16j\\xc5?\\x94t\\x94b\\x8c\\tEntryMask\\x94N\\x8c\\nAlgorithms\\x94]\\x94(\\x8c\\x18sim.healthcare.diagnosis\\x94\\x8c\\tAlgorithm\\x94\\x93\\x94)\\x81\\x94}\\x94(\\x8c\\x03Key\\x94\\x8c\\x11SSM > Xpert > CDx\\x94\\x8c\\x03SSM\\x94h8\\x8c\\x04Test\\x94\\x93\\x94)\\x81\\x94}\\x94(\\x8c\\x04Name\\x94h?\\x8c\\x04Sens\\x94G?\\xe43\\x9c\\x0e\\xbe\\xdf\\xa4\\x8c\\x04Spec\\x94G?\\xefE8\\xef4\\xd6\\xa1\\x8c\\x08Specimen\\x94h8hG\\x93\\x94)\\x81\\x94}\\x94(hD\\x8c\\x06Sputum\\x94\\x8c\\x04Loss\\x94G?\\xc5\\xb2-\\x0eV\\x04\\x19ubub\\x8c\\x05Xpert\\x94hA)\\x81\\x94}\\x94(hD\\x8c\\tXpert_ss-\\x94hEG?\\xe4V\\x04\\x18\\x93t\\xbchFG?\\xef-w1\\x8f\\xc5\\x05hGhIub\\x8c\\x03CDx\\x94hA)\\x81\\x94}\\x94(hDhQhEG?\\xe9\\x06\\xf6\\x94Fs\\x82hFG?\\xee\\xdb\\x8b\\xacq\\x0c\\xb3hGNububh:)\\x81\\x94}\\x94(h=\\x8c\\tSSM > CDx\\x94h?hBhMNhQhRubh:)\\x81\\x94}\\x94(h=\\x8c\\x0bXpert > CDx\\x94h?NhMhA)\\x81\\x94}\\x94(hDhMhEG?\\xea\\xc6?\\x14\\x12\\x05\\xbchFG?\\xef\\x19\\xce\\x07_o\\xd2hGhIubhQhRubh:)\\x81\\x94}\\x94(h=hQh?NhMNhQhA)\\x81\\x94}\\x94(hDhQhEG?\\xe9\\x06\\xf6\\x94Fs\\x82hFG?\\xee\\xdb\\x8b\\xacq\\x0c\\xb3hGNububeub\\x8c\\x07Engaged\\x94h,)\\x81\\x94}\\x94(h\\x15h\\x18h\\x1bK\\x00\\x85\\x94h\\x1d\\x87\\x94R\\x94(K\\x01K\\x02\\x85\\x94h%\\x89C\\x106<\\xbdR\\x96!\\xbe?yX\\xa85\\xcd;\\xec?\\x94t\\x94bh5Nh6]\\x94(hWh\\\\eub\\x8c\\x07Private\\x94h,)\\x81\\x94}\\x94(h\\x15h\\x18h\\x1bK\\x00\\x85\\x94h\\x1d\\x87\\x94R\\x94(K\\x01K\\x01\\x85\\x94h\"\\x8c\\x02i8\\x94\\x89\\x88\\x87\\x94R\\x94(K\\x03h&NNNJ\\xff\\xff\\xff\\xffJ\\xff\\xff\\xff\\xffK\\x00t\\x94b\\x89C\\x08\\x01\\x00\\x00\\x00\\x00\\x00\\x00\\x00\\x94t\\x94bh5Nh6]\\x94h\\\\aubub\\x8c\\x04p_dx\\x94h\\x18h\\x1bK\\x00\\x85\\x94h\\x1d\\x87\\x94R\\x94(K\\x01K\\x03\\x85\\x94h%\\x89C\\x18\\xa1E\\xb47\\n\\xf3\\xed?\\xa0\\xa4\\xc3\\xdf\\xf4\\x98\\xe9?\\x82sF\\x94\\xf6\\x06\\xe9?\\x94t\\x94b\\x8c\\x05p_txi\\x94h\\x18h\\x1bK\\x00\\x85\\x94h\\x1d\\x87\\x94R\\x94(K\\x01K\\x03\\x85\\x94h%\\x89C\\x18ffffff\\xee?333333\\xeb?333333\\xeb?\\x94t\\x94b\\x8c\\x05p_ent\\x94h\\x1f\\x8c\\x05p_itt\\x94h\\x16\\x8c\\x06scalar\\x94\\x93\\x94h%C\\x08\\xe1=\\x987\\x9f\\xe1\\xdd?\\x94\\x86\\x94R\\x94\\x8c\\x03txi\\x94h\\x89h%C\\x08\\x8be#\\xa5\\x13\\xe8W?\\x94\\x86\\x94R\\x94u.'"
      ]
     },
     "execution_count": 73,
     "metadata": {},
     "output_type": "execute_result"
    }
   ],
   "source": [
    "with open('d.pkl', 'wb') as f:\n",
    "    pkl.dumps(particle)"
   ]
  }
 ],
 "metadata": {
  "kernelspec": {
   "display_name": "Python 3 (ipykernel)",
   "language": "python",
   "name": "python3"
  },
  "language_info": {
   "codemirror_mode": {
    "name": "ipython",
    "version": 3
   },
   "file_extension": ".py",
   "mimetype": "text/x-python",
   "name": "python",
   "nbconvert_exporter": "python",
   "pygments_lexer": "ipython3",
   "version": "3.10.9"
  }
 },
 "nbformat": 4,
 "nbformat_minor": 5
}
