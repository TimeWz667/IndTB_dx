{
 "cells": [
  {
   "cell_type": "code",
   "execution_count": 1,
   "id": "21669695-a173-4250-bdc6-5eaa82e64f05",
   "metadata": {
    "tags": []
   },
   "outputs": [],
   "source": [
    "import json\n",
    "import pickle as pkl\n",
    "from sim.healthcare import *\n",
    "import numpy as np\n",
    "import numpy.random as rd"
   ]
  },
  {
   "cell_type": "code",
   "execution_count": 2,
   "id": "4af06f57-53ec-49bd-9f8f-4f7d4ab92f6b",
   "metadata": {
    "tags": []
   },
   "outputs": [],
   "source": [
    "from sim.ebm.obj import load_obj_baseline\n",
    "import pandas as pd\n",
    "import numpy as np\n",
    "from tqdm import tqdm\n",
    "from sim.ebm.intervention import compose_intv"
   ]
  },
  {
   "cell_type": "code",
   "execution_count": 3,
   "id": "3530e199-1e96-435a-9d44-39d0cd9d4e10",
   "metadata": {
    "tags": []
   },
   "outputs": [],
   "source": [
    "year0 = 2000\n",
    "\n",
    "obj = load_obj_baseline(\n",
    "    folder_input=f'pars',\n",
    "    file_prior='data/prior.txt',\n",
    "    file_targets='data/targets.csv',\n",
    "    year0=year0,\n",
    "    suffix='cas_cdx'\n",
    ")\n",
    "\n",
    "out_folder = 'out/post_dy_c0'\n",
    "\n",
    "post = pd.read_csv(f'{out_folder}/Post.csv')\n",
    "\n",
    "post = [dict(row) for i, row in post.iterrows()]"
   ]
  },
  {
   "cell_type": "code",
   "execution_count": 4,
   "id": "53646f56-ea67-4563-9da4-898198c0a908",
   "metadata": {
    "tags": []
   },
   "outputs": [],
   "source": [
    "def get_pdx(sys, p_txi):\n",
    "    res = sys.seek_care(1, 0)\n",
    "    p_dx = np.array([res[sector].TruePos for sector in ['Public', 'Engaged', 'Private']])\n",
    "    p_dx = (sys.Entry * p_dx * p_txi).sum()\n",
    "    return p_dx"
   ]
  },
  {
   "cell_type": "code",
   "execution_count": 5,
   "id": "5f805c25-f656-40e6-b989-65e9a4e3eefe",
   "metadata": {
    "tags": []
   },
   "outputs": [],
   "source": [
    "dd = list()\n",
    "\n",
    "for pars in post[:30]:\n",
    "    p = obj.serve(pars)\n",
    "    p = obj.Cas.prepare_pars(p)\n",
    "\n",
    "    intvs = {\n",
    "        'Dx_TSwab': compose_intv(p, dx='TSwab'),\n",
    "        'Dx_POC_Hi': compose_intv(p, dx='POC_Hi'),\n",
    "        'Dx_POC': compose_intv(p, dx='POC'),\n",
    "        \n",
    "    }\n",
    "\n",
    "    pdx = { 'Baseline': get_pdx(p['system'], p['p_txi']) }\n",
    "\n",
    "    for k, v in intvs.items():\n",
    "        pdx[k] = get_pdx(v.Dx.System, v.Dx.PrTxi)\n",
    "\n",
    "    dd.append(pdx)\n",
    "    \n",
    "dd = pd.DataFrame(dd)"
   ]
  },
  {
   "cell_type": "code",
   "execution_count": 6,
   "id": "2c09b413-a27d-4b83-b52b-7dff4c28ca73",
   "metadata": {
    "tags": []
   },
   "outputs": [
    {
     "data": {
      "text/plain": [
       "1.0"
      ]
     },
     "execution_count": 6,
     "metadata": {},
     "output_type": "execute_result"
    }
   ],
   "source": [
    "(dd.Baseline < dd.Dx_POC).mean()"
   ]
  },
  {
   "cell_type": "code",
   "execution_count": 7,
   "id": "b61b256e-b53d-4a79-b6b9-ffe9942da805",
   "metadata": {
    "tags": []
   },
   "outputs": [
    {
     "data": {
      "text/plain": [
       "1.0"
      ]
     },
     "execution_count": 7,
     "metadata": {},
     "output_type": "execute_result"
    }
   ],
   "source": [
    "(dd.Baseline < dd.Dx_POC_Hi).mean()"
   ]
  },
  {
   "cell_type": "code",
   "execution_count": 8,
   "id": "fb217388-8e1d-49f5-bf83-e1a48814da68",
   "metadata": {
    "tags": []
   },
   "outputs": [
    {
     "data": {
      "text/plain": [
       "1.0"
      ]
     },
     "execution_count": 8,
     "metadata": {},
     "output_type": "execute_result"
    }
   ],
   "source": [
    "(dd.Baseline < dd.Dx_TSwab).mean()"
   ]
  },
  {
   "cell_type": "code",
   "execution_count": 9,
   "id": "aab02dd4-dbd3-49cc-ab41-b363b1202f6a",
   "metadata": {
    "tags": []
   },
   "outputs": [
    {
     "data": {
      "text/plain": [
       "(0.9359179580662166, 0.7999214525599605, 0.7821)"
      ]
     },
     "execution_count": 9,
     "metadata": {},
     "output_type": "execute_result"
    }
   ],
   "source": [
    "p['system'].Public.seek_care(1, 0).TruePos, p['system'].Engaged.seek_care(1, 0).TruePos, p['system'].Private.seek_care(1, 0).TruePos"
   ]
  },
  {
   "cell_type": "code",
   "execution_count": 10,
   "id": "ab158bb7-7170-4ec1-a272-6e2a190af9b5",
   "metadata": {
    "tags": []
   },
   "outputs": [
    {
     "data": {
      "text/plain": [
       "(0.9359179580662166, 0.9259434998467501, 0.7821)"
      ]
     },
     "execution_count": 10,
     "metadata": {},
     "output_type": "execute_result"
    }
   ],
   "source": [
    "intvs['Dx_POC_Hi'].Dx.System.Public.seek_care(1, 0).TruePos, intvs['Dx_POC_Hi'].Dx.System.Engaged.seek_care(1, 0).TruePos, intvs['Dx_POC_Hi'].Dx.System.Private.seek_care(1, 0).TruePos"
   ]
  },
  {
   "cell_type": "code",
   "execution_count": 11,
   "id": "ffa1838a-937c-4195-b00f-08d2dadea8df",
   "metadata": {
    "tags": []
   },
   "outputs": [
    {
     "data": {
      "text/plain": [
       "(0.9579055253929607, 0.80312952860778, 0.7821)"
      ]
     },
     "execution_count": 11,
     "metadata": {},
     "output_type": "execute_result"
    }
   ],
   "source": [
    "intvs['Dx_TSwab'].Dx.System.Public.seek_care(1, 0).TruePos, intvs['Dx_TSwab'].Dx.System.Engaged.seek_care(1, 0).TruePos, intvs['Dx_TSwab'].Dx.System.Private.seek_care(1, 0).TruePos"
   ]
  },
  {
   "cell_type": "code",
   "execution_count": 13,
   "id": "38c4e7c0-f092-4856-afc9-1bb64f479b4f",
   "metadata": {
    "tags": []
   },
   "outputs": [
    {
     "data": {
      "text/plain": [
       "{'Presumptive': {'SSM': 13914911, 'Xpert': 4120552},\n",
       " 'Notification': {'Sector_Public': 1688427,\n",
       "  'Sector_Private': 733694,\n",
       "  'Test_SSM': 513050,\n",
       "  'Test_Xpert': 548981,\n",
       "  'Test_CXR': 835930,\n",
       "  'Test_Other': 1037210,\n",
       "  'Pr_XpertCases_Pri': 0.11536075668415721}}"
      ]
     },
     "execution_count": 13,
     "metadata": {},
     "output_type": "execute_result"
    }
   ],
   "source": [
    "{\n",
    "  \"Presumptive\": {\n",
    "    \"SSM\": 13914911,\n",
    "    \"Xpert\": 1370649 + 2749903\n",
    "  },\n",
    "  \"Notification\": {\n",
    "    \"Sector_Public\": 1688427,\n",
    "    \"Sector_Private\": 733694,\n",
    "\n",
    "    \"Test_SSM\": 513050,\n",
    "    \"Test_Xpert\": 548981,\n",
    "    \"Test_CXR\": 835930,\n",
    "    \"Test_Other\": 1037210,\n",
    "    \n",
    "    \"Pr_XpertCases_Pri\": (53067 + 68556) / (529196 + 525088)\n",
    "  }\n",
    "}"
   ]
  },
  {
   "cell_type": "code",
   "execution_count": 14,
   "id": "166c2395-d61b-4638-ba01-7b922ac614dd",
   "metadata": {
    "tags": []
   },
   "outputs": [
    {
     "data": {
      "text/plain": [
       "1873140"
      ]
     },
     "execution_count": 14,
     "metadata": {},
     "output_type": "execute_result"
    }
   ],
   "source": [
    "835930 + 1037210"
   ]
  }
 ],
 "metadata": {
  "kernelspec": {
   "display_name": "Python 3 (ipykernel)",
   "language": "python",
   "name": "python3"
  },
  "language_info": {
   "codemirror_mode": {
    "name": "ipython",
    "version": 3
   },
   "file_extension": ".py",
   "mimetype": "text/x-python",
   "name": "python",
   "nbconvert_exporter": "python",
   "pygments_lexer": "ipython3",
   "version": "3.10.9"
  }
 },
 "nbformat": 4,
 "nbformat_minor": 5
}
